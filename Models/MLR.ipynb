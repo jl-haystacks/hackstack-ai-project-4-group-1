{
 "cells": [
  {
   "cell_type": "code",
   "execution_count": 1,
   "id": "22b69609",
   "metadata": {},
   "outputs": [],
   "source": [
    "import pandas as pd\n",
    "import sklearn\n",
    "import numpy as np\n",
    "df = pd.read_csv('data/haystacks_ga_clean_new_format.csv')"
   ]
  },
  {
   "cell_type": "code",
   "execution_count": 2,
   "id": "5d907b7d",
   "metadata": {},
   "outputs": [
    {
     "data": {
      "text/plain": [
       "Index(['latitude', 'longitude', 'address', 'city', 'county', 'state',\n",
       "       'zipcode', 'listing_status', 'details', 'square_footage',\n",
       "       'overall_crime_grade', 'ES_rating', 'caprate', 'lot_size', 'baths_half',\n",
       "       'MS_rating', 'HS_rating', 'listing_special_features', 'rent', 'beds',\n",
       "       'special_features', 'price', 'baths_full', 'year_built',\n",
       "       'property_crime_grade', 'transaction_type'],\n",
       "      dtype='object')"
      ]
     },
     "execution_count": 2,
     "metadata": {},
     "output_type": "execute_result"
    }
   ],
   "source": [
    "df.columns"
   ]
  },
  {
   "cell_type": "code",
   "execution_count": 3,
   "id": "8f5c6734",
   "metadata": {},
   "outputs": [
    {
     "data": {
      "text/plain": [
       "1    10129\n",
       "0      184\n",
       "Name: listing_status, dtype: int64"
      ]
     },
     "execution_count": 3,
     "metadata": {},
     "output_type": "execute_result"
    }
   ],
   "source": [
    "df.listing_status.value_counts()"
   ]
  },
  {
   "cell_type": "code",
   "execution_count": 4,
   "id": "58351764",
   "metadata": {},
   "outputs": [],
   "source": [
    "df = df.loc[~df.year_built.isnull()]"
   ]
  },
  {
   "cell_type": "code",
   "execution_count": 5,
   "id": "a3d34f05",
   "metadata": {},
   "outputs": [],
   "source": [
    "## Mask for turning crime grades into integers\n",
    "mask = {'F': 0,\n",
    "       'D-': 1,\n",
    "       'D': 2,\n",
    "       'D+': 3,\n",
    "       'C-': 4,\n",
    "       'C': 5,\n",
    "       'C+': 6,\n",
    "       'B-': 7,\n",
    "       'B': 8,\n",
    "       'B+': 9,\n",
    "       'A-': 10,\n",
    "       'A': 11}"
   ]
  },
  {
   "cell_type": "code",
   "execution_count": 6,
   "id": "9134d144",
   "metadata": {},
   "outputs": [],
   "source": [
    "df['overall_crime_grade'] = df['overall_crime_grade'].apply(lambda row: mask[row])\n",
    "df['property_crime_grade'] = df['property_crime_grade'].apply(lambda row: mask[row])"
   ]
  },
  {
   "cell_type": "code",
   "execution_count": 7,
   "id": "cddc88dc",
   "metadata": {},
   "outputs": [],
   "source": [
    "##Leaving only price and predictors/groups.\n",
    "\n",
    "df = df.drop(['details', \n",
    "              'special_features',  \n",
    "              'transaction_type', \n",
    "              'listing_status', \n",
    "              'listing_special_features',\n",
    "              'special_features',\n",
    "              'state', \n",
    "              'county',  \n",
    "              'rent',\n",
    "              'caprate'], axis=1)"
   ]
  },
  {
   "cell_type": "code",
   "execution_count": 8,
   "id": "05603e78",
   "metadata": {},
   "outputs": [
    {
     "name": "stdout",
     "output_type": "stream",
     "text": [
      "<class 'pandas.core.frame.DataFrame'>\n",
      "Int64Index: 10313 entries, 0 to 10312\n",
      "Data columns (total 17 columns):\n",
      " #   Column                Non-Null Count  Dtype  \n",
      "---  ------                --------------  -----  \n",
      " 0   latitude              10313 non-null  float64\n",
      " 1   longitude             10313 non-null  float64\n",
      " 2   address               10313 non-null  object \n",
      " 3   city                  10313 non-null  object \n",
      " 4   zipcode               10313 non-null  int64  \n",
      " 5   square_footage        10313 non-null  float64\n",
      " 6   overall_crime_grade   10313 non-null  int64  \n",
      " 7   ES_rating             10313 non-null  float64\n",
      " 8   lot_size              10313 non-null  float64\n",
      " 9   baths_half            10313 non-null  float64\n",
      " 10  MS_rating             10313 non-null  float64\n",
      " 11  HS_rating             10313 non-null  float64\n",
      " 12  beds                  10313 non-null  float64\n",
      " 13  price                 10313 non-null  int64  \n",
      " 14  baths_full            10313 non-null  float64\n",
      " 15  year_built            10313 non-null  float64\n",
      " 16  property_crime_grade  10313 non-null  int64  \n",
      "dtypes: float64(11), int64(4), object(2)\n",
      "memory usage: 1.4+ MB\n"
     ]
    }
   ],
   "source": [
    "df.info()"
   ]
  },
  {
   "cell_type": "code",
   "execution_count": 9,
   "id": "698a430a",
   "metadata": {},
   "outputs": [
    {
     "data": {
      "text/plain": [
       "30052    170\n",
       "30135    109\n",
       "30157    103\n",
       "30132    100\n",
       "30032     99\n",
       "        ... \n",
       "31709      1\n",
       "31815      1\n",
       "30445      1\n",
       "31901      1\n",
       "31791      1\n",
       "Name: zipcode, Length: 339, dtype: int64"
      ]
     },
     "execution_count": 9,
     "metadata": {},
     "output_type": "execute_result"
    }
   ],
   "source": [
    "pd.set_option('display.max_rows', 10)\n",
    "df.zipcode.value_counts()"
   ]
  },
  {
   "cell_type": "code",
   "execution_count": 10,
   "id": "777ce710",
   "metadata": {},
   "outputs": [],
   "source": [
    "## Below will be a template for other models. The intent is for model-agnosticism to inform design.\n",
    "\n",
    "## We do not have sufficient data to actually justify running a model at every zip code.\n",
    "## Nevertheless, we will code that up, as it will be simple to apply to a subset of zips.\n",
    "\n",
    "## We should look into grouping smaller zip codes if relevant.\n",
    "\n",
    "## Import necessary models/tools\n",
    "\n",
    "from sklearn.linear_model import LinearRegression \n",
    "from sklearn.model_selection import train_test_split\n",
    "import shap\n",
    "import pickle"
   ]
  },
  {
   "cell_type": "code",
   "execution_count": 11,
   "id": "be438b11",
   "metadata": {},
   "outputs": [],
   "source": [
    "## creates dataframe for each zipcode\n",
    "zip_dfs=[]\n",
    "for zipcode in sorted(set(df.zipcode.values)):\n",
    "    zip_dfs.append((df.loc[df.zipcode==zipcode,:], zipcode)\n",
    "                  )\n",
    "    \n",
    "    \n",
    "    \n",
    "## list for models\n",
    "models = []\n",
    "\n",
    "## list for shap values and explainers\n",
    "shaps = []\n",
    "ziplist = []\n",
    "\n",
    "\n",
    "for zdf in zip_dfs:\n",
    "    \n",
    "    X = zdf[0].drop(['price',\n",
    "                     'zipcode',\n",
    "                     \"latitude\",\n",
    "                     'longitude', \n",
    "                     'city', \n",
    "                     'address'], axis=1)\n",
    "\n",
    "    y = zdf[0][['price']]\n",
    "    \n",
    "    if len(zdf[0]) == 1:\n",
    "        X_train = X\n",
    "        y_train = y\n",
    "        \n",
    "    else:\n",
    "        X_train, X_test, y_train, y_test = train_test_split(\n",
    "            X, \n",
    "            y,\n",
    "            train_size = 0.8,\n",
    "            random_state = 0)\n",
    "    models.append((LinearRegression().fit(X_train, y_train), zdf[1]))\n",
    "    \n",
    "    explainer = shap.Explainer(models[-1][0], X)\n",
    "    shap_values = explainer(X)\n",
    "    shaps.append([explainer, shap_values, zdf[1]])"
   ]
  },
  {
   "cell_type": "code",
   "execution_count": 12,
   "id": "271c3867",
   "metadata": {
    "scrolled": true
   },
   "outputs": [
    {
     "data": {
      "image/png": "[encoded data removed]",
      "text/plain": [
       "<Figure size 576x396 with 2 Axes>"
      ]
     },
     "metadata": {
      "needs_background": "light"
     },
     "output_type": "display_data"
    }
   ],
   "source": [
    "## a sample plot\n",
    "shap.plots.beeswarm(shaps[5][1])"
   ]
  },
  {
   "cell_type": "code",
   "execution_count": 13,
   "id": "f0473311",
   "metadata": {},
   "outputs": [],
   "source": [
    "## OLD\n",
    "\n",
    "# filename = 'linear_models.sav'\n",
    "# pickle.dump(models, open(filename, 'wb'))"
   ]
  },
  {
   "cell_type": "code",
   "execution_count": 14,
   "id": "f32d527f",
   "metadata": {},
   "outputs": [],
   "source": [
    "## series for each indexed by zipcode\n",
    "\n",
    "mod_ser = pd.Series([], dtype='O')\n",
    "for i in range(len(models)):\n",
    "    mod_ser[models[i][1]] = models[i][0]\n",
    "mod_ser = mod_ser.to_frame().reset_index()\n",
    "mod_ser.columns = ['zipcode','model']\n",
    "    \n",
    "sv_ser = pd.Series([], dtype = 'O')\n",
    "for i in range(len(shaps)):\n",
    "    sv_ser[shaps[i][2]] = shaps[i][1]\n",
    "sv_ser = sv_ser.to_frame().reset_index()\n",
    "sv_ser.columns = ['zipcode', 'shap_values']\n",
    "\n",
    "exp_ser = pd.Series([], dtype = 'O')\n",
    "for i in range(len(shaps)):\n",
    "    exp_ser[shaps[i][2]] = shaps[i][0]\n",
    "exp_ser = exp_ser.to_frame().reset_index()\n",
    "exp_ser.columns = ['zipcode','explainer']"
   ]
  },
  {
   "cell_type": "code",
   "execution_count": 15,
   "id": "cae233a6",
   "metadata": {},
   "outputs": [],
   "source": [
    "MS_df = mod_ser.merge(sv_ser, on='zipcode')\n",
    "MS_df = MS_df.merge(exp_ser, on='zipcode')\n",
    "MS_df.index = MS_df.zipcode\n",
    "\n",
    "## The below can be taken out if desired.\n",
    "MS_df = MS_df.drop(['zipcode'], axis=1)"
   ]
  },
  {
   "cell_type": "code",
   "execution_count": 16,
   "id": "30b8d0ca",
   "metadata": {},
   "outputs": [],
   "source": [
    "## Can't print MS_df['shap_values'], but the column is there."
   ]
  },
  {
   "cell_type": "code",
   "execution_count": 17,
   "id": "0ab03266",
   "metadata": {},
   "outputs": [],
   "source": [
    "filename = 'MLR_modNshap.P'\n",
    "pickle.dump(models, open(filename, 'wb'))"
   ]
  }
 ],
 "metadata": {
  "kernelspec": {
   "display_name": "Python 3 (ipykernel)",
   "language": "python",
   "name": "python3"
  },
  "language_info": {
   "codemirror_mode": {
    "name": "ipython",
    "version": 3
   },
   "file_extension": ".py",
   "mimetype": "text/x-python",
   "name": "python",
   "nbconvert_exporter": "python",
   "pygments_lexer": "ipython3",
   "version": "3.9.12"
  }
 },
 "nbformat": 4,
 "nbformat_minor": 5
}
