{
 "cells": [
  {
   "cell_type": "markdown",
   "id": "19c5053d",
   "metadata": {},
   "source": [
    "# Haystacks AI Project 4 Group 1: Quantitative Explainability Solution"
   ]
  },
  {
   "cell_type": "markdown",
   "id": "c1b22c02",
   "metadata": {},
   "source": [
    "## Geolocation"
   ]
  },
  {
   "cell_type": "markdown",
   "id": "d7a3cb3b",
   "metadata": {},
   "source": [
    "<a id=toc></a>\n",
    "## Table of Contents\n",
    "\n",
    "<ul>\n",
    "    <li><a href=#01-import-packages>Import Packages</a>\n",
    "    <li><a href=#02-load-dataset>Load Datasets and Check Properties</a>\n",
    "        <ul>\n",
    "            <li><a href=#02-a-counties>Georgia Counties</a>\n",
    "        </ul>\n",
    "        <ul>\n",
    "            <li><a href=#02-b-zip-codes>Georgia Zip Codes</a>\n",
    "        </ul>\n",
    "        <ul>\n",
    "            <li><a href=#02-c-houses>Georgia Houses</a>\n",
    "        </ul>\n",
    "    <li><a href=#03-clean-data>Clean House Address Coordinate Data</a>\n",
    "        <ul>\n",
    "            <li><a href=#03-a-drop-extra-index>Drop Unnecessary Index Column</a>\n",
    "        </ul>\n",
    "        <ul>\n",
    "            <li><a href=#03-b-drop-extra-county>Drop Redundant County Name Column</a>\n",
    "        </ul>\n",
    "        <ul>\n",
    "            <li><a href=#03-c-rename-columns>Rename and Relocate Columns</a>\n",
    "        </ul>\n",
    "    <li><a href=#04-save-file>Save Cleaned File</a>\n",
    "</ul>"
   ]
  },
  {
   "cell_type": "markdown",
   "id": "4ff8d6d1",
   "metadata": {},
   "source": [
    "<a id=01-import-packages></a>\n",
    "## Import Packages"
   ]
  },
  {
   "cell_type": "markdown",
   "id": "0e7d86fa",
   "metadata": {},
   "source": [
    "Import necessary packages."
   ]
  },
  {
   "cell_type": "code",
   "execution_count": null,
   "id": "22e05378",
   "metadata": {},
   "outputs": [],
   "source": [
    "# Dataframes and numerical\n",
    "import pandas as pd\n",
    "import numpy as np\n",
    "\n",
    "# Geolocation\n",
    "import geopandas as gpd\n",
    "import matplotlib.pyplot as plt\n",
    "\n",
    "# Apache parquet files (to save space)\n",
    "# import pyarrow as pa\n",
    "# import pyarrow.parquet as pq\n",
    "\n",
    "# Increase pandas default display \n",
    "pd.options.display.max_rows = 250\n",
    "pd.options.display.max_columns = 250\n",
    "\n",
    "# Suppress warnings\n",
    "import warnings\n",
    "warnings.filterwarnings('ignore')"
   ]
  },
  {
   "cell_type": "markdown",
   "id": "e8abfdda",
   "metadata": {},
   "source": [
    "<a href=#toc>Back to the top</a>"
   ]
  },
  {
   "cell_type": "markdown",
   "id": "1400dee3",
   "metadata": {},
   "source": [
    "<a id=02-load-dataset></a>\n",
    "## Load Datasets and Check Properties"
   ]
  },
  {
   "cell_type": "markdown",
   "id": "8d250cc3",
   "metadata": {},
   "source": [
    "Reference shapefile and list of addresses to be tagged."
   ]
  },
  {
   "cell_type": "markdown",
   "id": "2e23dad7",
   "metadata": {},
   "source": [
    "<a id=02-a-counties></a>\n",
    "### Georgia Counties"
   ]
  },
  {
   "cell_type": "code",
   "execution_count": null,
   "id": "03277761",
   "metadata": {},
   "outputs": [],
   "source": [
    "# From https://towardsdatascience.com/tagging-a-location-to-a-shapefile-area-using-geopandas-5d74336128bf\n",
    "\n",
    "# Set the filepath and load in a shapefile\n",
    "# Shape file found here:\n",
    "# https://maps.princeton.edu/catalog/tufts-gacounties10\n",
    "ga_counties = \"data/geojson/tufts-gacounties10-geojson.json\"\n",
    "map_ga_counties = gpd.read_file(ga_counties)\n",
    "\n",
    "# Check the GeoDataframe\n",
    "map_ga_counties.head()"
   ]
  },
  {
   "cell_type": "markdown",
   "id": "963adff2",
   "metadata": {},
   "source": [
    "For mapping addresses by their coordinates to county, referencing column **name10** or **namelsad10** should work."
   ]
  },
  {
   "cell_type": "markdown",
   "id": "8d02044f",
   "metadata": {},
   "source": [
    "<a href=#toc>Back to the top</a>"
   ]
  },
  {
   "cell_type": "markdown",
   "id": "9e0261b7",
   "metadata": {},
   "source": [
    "<a id=02-a-zip-codes></a>\n",
    "### Georgia Zip Codes"
   ]
  },
  {
   "cell_type": "code",
   "execution_count": null,
   "id": "388367fa",
   "metadata": {},
   "outputs": [],
   "source": [
    "# From https://towardsdatascience.com/tagging-a-location-to-a-shapefile-area-using-geopandas-5d74336128bf\n",
    "\n",
    "# Set the filepath and load in a shapefile\n",
    "# Shape file found here:\n",
    "# https://maps.princeton.edu/catalog/harvard-tg00gazcta\n",
    "ga_zipcodes = \"data/geojson/harvard-tg00gazcta-geojson.json\"\n",
    "map_ga_zipcodes = gpd.read_file(ga_zipcodes)\n",
    "\n",
    "# Check the GeoDataframe\n",
    "map_ga_zipcodes.head()"
   ]
  },
  {
   "cell_type": "markdown",
   "id": "f732a050",
   "metadata": {},
   "source": [
    "For mapping addresses by their coordinates to zip code, referencing column **ZCTA** should work."
   ]
  },
  {
   "cell_type": "markdown",
   "id": "6a02f34b",
   "metadata": {},
   "source": [
    "<a href=#toc>Back to the top</a>"
   ]
  },
  {
   "cell_type": "markdown",
   "id": "55775ca6",
   "metadata": {},
   "source": [
    "<a id=02-c-houses></a>\n",
    "### Georgia Houses"
   ]
  },
  {
   "cell_type": "markdown",
   "id": "b2885fc9",
   "metadata": {},
   "source": [
    "Load .csv file into pandas dataframe."
   ]
  },
  {
   "cell_type": "code",
   "execution_count": null,
   "id": "937612c4",
   "metadata": {},
   "outputs": [],
   "source": [
    "# Load the Georgia sold properties and their Lat Longs\n",
    "list_location = pd.read_csv('data/cleaned.csv')\n",
    "\n",
    "# Check the Pandas Dataframe\n",
    "list_location.head()"
   ]
  },
  {
   "cell_type": "markdown",
   "id": "acec8a19",
   "metadata": {},
   "source": [
    "In order to streamline the CSV file, redundant columns shall be dropped and relevant ones shall be located in a logical manner in order to facilitate usage within the proposed Plotly Dash website."
   ]
  },
  {
   "cell_type": "markdown",
   "id": "41caeacf",
   "metadata": {},
   "source": [
    "<a href=#toc>Back to the top</a>"
   ]
  },
  {
   "cell_type": "markdown",
   "id": "bd396d51",
   "metadata": {},
   "source": [
    "<a id=03-clean-data></a>\n",
    "## Clean House Address Coordinate Data"
   ]
  },
  {
   "cell_type": "markdown",
   "id": "d0987d83",
   "metadata": {},
   "source": [
    "Only simple modifications need to be made in order for the data to be presented more efficiently."
   ]
  },
  {
   "cell_type": "markdown",
   "id": "8a40113a",
   "metadata": {},
   "source": [
    "<a id=03-a-drop-extra-index></a>\n",
    "### Drop Unnecessary Index Column"
   ]
  },
  {
   "cell_type": "markdown",
   "id": "b9a01538",
   "metadata": {},
   "source": [
    "To begin with, drop the unnecessary **Unnamed: 0** column. It's taking up unnecessary space and serves no purpose."
   ]
  },
  {
   "cell_type": "code",
   "execution_count": null,
   "id": "982c1ecc",
   "metadata": {},
   "outputs": [],
   "source": [
    "# More about this here:\n",
    "# https://stackoverflow.com/questions/36519086/how-to-get-rid-of-unnamed-0-column-in-a-pandas-dataframe-read-in-from-csv-fil\n",
    "# Delete one by one like column is 'Unnamed: 0' so use it's name\n",
    "list_location.drop('Unnamed: 0', axis=1, inplace=True)\n",
    "\n",
    "# Check the Pandas Dataframe\n",
    "list_location.head()"
   ]
  },
  {
   "cell_type": "markdown",
   "id": "e66f27d0",
   "metadata": {},
   "source": [
    "<a href=#toc>Back to the top</a>"
   ]
  },
  {
   "cell_type": "markdown",
   "id": "fecb5eba",
   "metadata": {},
   "source": [
    "<a id=03-b-drop-extra-county></a>\n",
    "### Drop Redundant County Name Column"
   ]
  },
  {
   "cell_type": "markdown",
   "id": "25fc9b60",
   "metadata": {},
   "source": [
    "Similarly, drop the redundant **census_county_name** column."
   ]
  },
  {
   "cell_type": "code",
   "execution_count": null,
   "id": "972b9215",
   "metadata": {
    "scrolled": false
   },
   "outputs": [],
   "source": [
    "# Delete the census_county_name_column\n",
    "list_location.drop('census_county_name', axis=1, inplace=True)\n",
    "\n",
    "# Check the Pandas Dataframe\n",
    "list_location.head()"
   ]
  },
  {
   "cell_type": "markdown",
   "id": "33cb7fb9",
   "metadata": {},
   "source": [
    "<a href=#toc>Back to the top</a>"
   ]
  },
  {
   "cell_type": "markdown",
   "id": "003566ba",
   "metadata": {},
   "source": [
    "<a id=03-c-rename-columns></a>\n",
    "### Rename and Relocate Columns"
   ]
  },
  {
   "cell_type": "markdown",
   "id": "c40daa46",
   "metadata": {},
   "source": [
    "Rename **full_street_addess**, **county_name**, and **census_state_name** columns for simplicity."
   ]
  },
  {
   "cell_type": "code",
   "execution_count": null,
   "id": "bc242764",
   "metadata": {},
   "outputs": [],
   "source": [
    "# Rename columns in both dataframes to assist merging\n",
    "list_location.rename(columns = {'full_street_address': 'address',\n",
    "                                'county_name': 'county',\n",
    "                                'census_state_name': 'state'}, inplace = True)\n",
    "\n",
    "# Remove \"County\" in the new county column to reduce verbiage and space\n",
    "# https://stackoverflow.com/questions/28986489/how-to-replace-text-in-a-string-column-of-a-pandas-dataframe\n",
    "list_location['county'] = list_location['county'].apply(lambda x: x.replace(\"-County\", \"\"))\n",
    "\n",
    "# Check the Pandas Dataframe\n",
    "list_location.head()"
   ]
  },
  {
   "cell_type": "markdown",
   "id": "303c49dd",
   "metadata": {},
   "source": [
    "Now relocate the **state** and **zipcode** columns next to the **county** columns for consistency:"
   ]
  },
  {
   "cell_type": "code",
   "execution_count": null,
   "id": "3478af2d",
   "metadata": {},
   "outputs": [],
   "source": [
    "# A function found here for reordering columns and also dropping them if necessary:\n",
    "# https://stackoverflow.com/questions/35321812/move-column-in-pandas-dataframe\n",
    "def reorder_columns(columns, first_cols=[], last_cols=[], drop_cols=[]):\n",
    "    columns = list(set(columns) - set(first_cols))\n",
    "    columns = list(set(columns) - set(drop_cols))\n",
    "    columns = list(set(columns) - set(last_cols))\n",
    "    new_order = first_cols + columns + last_cols\n",
    "    return new_order"
   ]
  },
  {
   "cell_type": "code",
   "execution_count": null,
   "id": "8be0a472",
   "metadata": {},
   "outputs": [],
   "source": [
    "# Now execute the function above\n",
    "my_list = list_location.columns.tolist()\n",
    "location_data = ['latitude', 'longitude', 'address', 'city', 'county', 'state', 'zipcode']\n",
    "reordered_cols = reorder_columns(my_list, first_cols=location_data)\n",
    "list_location = list_location[reordered_cols]\n",
    "\n",
    "# Check the Pandas Dataframe\n",
    "list_location.head()"
   ]
  },
  {
   "cell_type": "markdown",
   "id": "f3276d66",
   "metadata": {},
   "source": [
    "<a href=#toc>Back to the top</a>"
   ]
  },
  {
   "cell_type": "markdown",
   "id": "3599376e",
   "metadata": {},
   "source": [
    "<a id=04-save-file></a>\n",
    "## Save Cleaned File"
   ]
  },
  {
   "cell_type": "markdown",
   "id": "2b89af36",
   "metadata": {},
   "source": [
    "Since county and zipcode information is already available in the .csv file itself for mapping to the geoJSONs for the Plotly Dash website, only the cleaned **pandas** dataframe that was created here needs to be saved for future use."
   ]
  },
  {
   "cell_type": "code",
   "execution_count": null,
   "id": "910e7be9",
   "metadata": {},
   "outputs": [],
   "source": [
    "# To ensure that another Unnamed: 0 column is not created in the cleaned .csv file:\n",
    "list_location.to_csv('data/haystacks_ga_clean_new_format.csv', index=False)"
   ]
  },
  {
   "cell_type": "markdown",
   "id": "73f9aae8",
   "metadata": {},
   "source": [
    "<a href=#toc>Back to the top</a>"
   ]
  }
 ],
 "metadata": {
  "kernelspec": {
   "display_name": "Python 3 (ipykernel)",
   "language": "python",
   "name": "python3"
  },
  "language_info": {
   "codemirror_mode": {
    "name": "ipython",
    "version": 3
   },
   "file_extension": ".py",
   "mimetype": "text/x-python",
   "name": "python",
   "nbconvert_exporter": "python",
   "pygments_lexer": "ipython3",
   "version": "3.9.7"
  }
 },
 "nbformat": 4,
 "nbformat_minor": 5
}
