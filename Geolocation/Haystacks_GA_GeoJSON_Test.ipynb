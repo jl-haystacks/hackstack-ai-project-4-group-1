{
 "cells": [
  {
   "cell_type": "markdown",
   "metadata": {},
   "source": [
    "# Haystacks AI Project 4 Group 1: Quantitative Explainability Solution"
   ]
  },
  {
   "cell_type": "markdown",
   "metadata": {},
   "source": [
    "## GeoJSON Test Run"
   ]
  },
  {
   "cell_type": "markdown",
   "metadata": {},
   "source": [
    "The purpose of this notebook is to verify that the GeoJSONs from the following sources function:\n",
    "\n",
    "Counties Georgia 2010 (Princeton University Library): <br>https://maps.princeton.edu/catalog/harvard-tg00gazcta\n",
    "\n",
    "UA Census Zip Code Tabulation Areas, 2000 - Georgia (ibid.): <br>https://maps.princeton.edu/catalog/harvard-tg00gazcta"
   ]
  },
  {
   "cell_type": "markdown",
   "metadata": {},
   "source": [
    "<a id=toc></a>\n",
    "## Table of Contents\n",
    "\n",
    "<ul>\n",
    "    <li><a href=#01-data-load>Initial Data Load</a>\n",
    "    <li><a href=#02-geojson-map>GeoJSON Choropleth Map Generation</a>\n",
    "        <ul>\n",
    "            <li><a href=#02-a-install-load>Install (if Applicable) and Load Necessary Packages</a>\n",
    "        </ul>\n",
    "        <ul>\n",
    "            <li><a href=#02-b-ga-counties>Georgia Counties</a>\n",
    "        </ul>\n",
    "        <ul>\n",
    "            <li><a href=#02-c-ga-zipcodes>Georgia Zip Codes</a>\n",
    "        </ul>\n",
    "</ul>"
   ]
  },
  {
   "cell_type": "markdown",
   "metadata": {},
   "source": [
    "<a id=01-data-load></a>\n",
    "## Initial Data Load"
   ]
  },
  {
   "cell_type": "markdown",
   "metadata": {},
   "source": [
    "Load the house .csv into a **pandas** DataFrame in order to properly bring in the following features:\n",
    "\n",
    "<ol>\n",
    "    <b><li>latitude</li>\n",
    "    <li>longitude</li>\n",
    "    <li>county</li>\n",
    "    <li>zipcode</li></b>\n",
    "</ol>"
   ]
  },
  {
   "cell_type": "code",
   "execution_count": null,
   "metadata": {},
   "outputs": [],
   "source": [
    "import pandas as pd\n",
    "import numpy as np\n",
    "\n",
    "haystacks_ga_data = pd.read_csv('data/haystacks_ga_clean_new_format.csv', dtype={\"county\": str, \"zipcode\": str})"
   ]
  },
  {
   "cell_type": "code",
   "execution_count": null,
   "metadata": {},
   "outputs": [],
   "source": [
    "pd.set_option('display.max_columns', 27)"
   ]
  },
  {
   "cell_type": "code",
   "execution_count": null,
   "metadata": {},
   "outputs": [],
   "source": [
    "haystacks_ga_data.head()"
   ]
  },
  {
   "cell_type": "markdown",
   "metadata": {},
   "source": [
    "<a href=#toc>Back to the top</a>"
   ]
  },
  {
   "cell_type": "markdown",
   "metadata": {},
   "source": [
    "<a id=02-geojson-map></a>\n",
    "## GeoJSON Choropleth Map Generation"
   ]
  },
  {
   "cell_type": "markdown",
   "metadata": {},
   "source": [
    "Now the data is ready for generating choropleth maps"
   ]
  },
  {
   "cell_type": "markdown",
   "metadata": {},
   "source": [
    "<a id=02-a-install-load></a>\n",
    "### Install (if Applicable) and Load Necessary Packages"
   ]
  },
  {
   "cell_type": "code",
   "execution_count": null,
   "metadata": {},
   "outputs": [],
   "source": [
    "# Install these packages and dependencies:\n",
    "# conda install -c plotly plotly-geo\n",
    "# conda install -c conda-forge pyshp\n",
    "# conda install -c conda-forge geopandas\n",
    "\n",
    "from plotly.offline import init_notebook_mode, plot, iplot\n",
    "import plotly.express as px\n",
    "import geopandas as gpd\n",
    "import json\n",
    "\n",
    "init_notebook_mode(connected=True)"
   ]
  },
  {
   "cell_type": "markdown",
   "metadata": {},
   "source": [
    "<a href=#toc>Back to the top</a>"
   ]
  },
  {
   "cell_type": "markdown",
   "metadata": {},
   "source": [
    "<a id=02-b-ga-counties></a>\n",
    "### Georgia Counties"
   ]
  },
  {
   "cell_type": "markdown",
   "metadata": {},
   "source": [
    "First, create a DataFrame which count the number of homes in each county, as an example."
   ]
  },
  {
   "cell_type": "code",
   "execution_count": null,
   "metadata": {},
   "outputs": [],
   "source": [
    "# Aggregate counties by number of houses\n",
    "ga_county_count = pd.DataFrame(haystacks_ga_data.county.value_counts())\n",
    "ga_county_count = ga_county_count.reset_index().rename(columns = {'index':'county', 'county':'num_houses'})"
   ]
  },
  {
   "cell_type": "markdown",
   "metadata": {},
   "source": [
    "Next, load in the GeoJSON for the counties of Georgia."
   ]
  },
  {
   "cell_type": "code",
   "execution_count": null,
   "metadata": {},
   "outputs": [],
   "source": [
    "# Set the filepath and load in a shapefile\n",
    "# Shape file found here:\n",
    "# https://maps.princeton.edu/catalog/tufts-gacounties10\n",
    "ga_counties = \"data/geojson/tufts-gacounties10-geojson.json\"\n",
    "map_ga_counties = gpd.read_file(ga_counties)"
   ]
  },
  {
   "cell_type": "code",
   "execution_count": null,
   "metadata": {},
   "outputs": [],
   "source": [
    "map_ga_counties.crs"
   ]
  },
  {
   "cell_type": "markdown",
   "metadata": {},
   "source": [
    "Then, create the choropleth map in **plotly express**."
   ]
  },
  {
   "cell_type": "code",
   "execution_count": null,
   "metadata": {},
   "outputs": [],
   "source": [
    "# plotly and geopandas necessary for producing these choropleths\n",
    "# For plotly express to print maps, jsons must be used\n",
    "# More here: https://plotly.com/python/mapbox-county-choropleth/\n",
    "# https://plotly.github.io/plotly.py-docs/generated/plotly.express.choropleth_mapbox.html\n",
    "# https://stackoverflow.com/questions/67362742/geojson-issues-with-plotly-choropleth-mapbox\n",
    "# https://community.plotly.com/t/choroplethmapbox-does-not-show/41229/6\n",
    "ga_counties_fig = px.choropleth_mapbox(ga_county_count, geojson=map_ga_counties, locations='county', color='num_houses',\n",
    "                                       color_continuous_scale=\"Viridis\", #range_color=(0, 12), \n",
    "                                       mapbox_style=\"carto-positron\", zoom=5.5, \n",
    "                                       # Geographic center of Georgia:\n",
    "                                       # https://georgiahistory.com/ghmi_marker_updated/geographic-center-of-georgia/\n",
    "                                       center = {\"lat\": 32.6461, \"lon\": -83.4317},\n",
    "                                       opacity=0.5, labels={'num_houses':'Number of Houses'},\n",
    "                                      featureidkey='properties.name10')"
   ]
  },
  {
   "cell_type": "markdown",
   "metadata": {},
   "source": [
    "Finally, plot the map."
   ]
  },
  {
   "cell_type": "code",
   "execution_count": null,
   "metadata": {},
   "outputs": [],
   "source": [
    "iplot(ga_counties_fig)\n",
    "\n",
    "# If iplot doesn't show a figure, uncomment and run the code below\n",
    "# plot(ga_counties_fig)"
   ]
  },
  {
   "cell_type": "markdown",
   "metadata": {},
   "source": [
    "It appears that there are either missing counties in the geoJSON itself or no houses in those respective counties."
   ]
  },
  {
   "cell_type": "markdown",
   "metadata": {},
   "source": [
    "<a href=#toc>Back to the top</a>"
   ]
  },
  {
   "cell_type": "markdown",
   "metadata": {},
   "source": [
    "<a id=02-c-ga-zipcodes></a>\n",
    "### Georgia Zipcodes"
   ]
  },
  {
   "cell_type": "markdown",
   "metadata": {},
   "source": [
    "First, create a DataFrame which count the number of homes in each zipcode, as an example."
   ]
  },
  {
   "cell_type": "code",
   "execution_count": null,
   "metadata": {},
   "outputs": [],
   "source": [
    "# Aggregate counties by number of houses\n",
    "ga_zipcode_count = pd.DataFrame(haystacks_ga_data.zipcode.value_counts())\n",
    "ga_zipcode_count = ga_zipcode_count.reset_index().rename(columns = {'index':'zipcode', 'zipcode':'num_houses'})"
   ]
  },
  {
   "cell_type": "markdown",
   "metadata": {},
   "source": [
    "Next, load in the GeoJSON for the zipcodes of Georgia."
   ]
  },
  {
   "cell_type": "code",
   "execution_count": null,
   "metadata": {},
   "outputs": [],
   "source": [
    "# Set the filepath and load in a shapefile\n",
    "# Shape file found here:\n",
    "# https://maps.princeton.edu/catalog/harvard-tg00gazcta\n",
    "ga_zipcodes = \"data/geojson/harvard-tg00gazcta-geojson.json\"\n",
    "map_ga_zipcodes = gpd.read_file(ga_zipcodes)"
   ]
  },
  {
   "cell_type": "code",
   "execution_count": null,
   "metadata": {},
   "outputs": [],
   "source": [
    "map_ga_zipcodes.crs"
   ]
  },
  {
   "cell_type": "markdown",
   "metadata": {},
   "source": [
    "Then, create the choropleth map in **plotly express**."
   ]
  },
  {
   "cell_type": "code",
   "execution_count": null,
   "metadata": {},
   "outputs": [],
   "source": [
    "# plotly and geopandas necessary for producing these choropleths\n",
    "# For plotly express to print maps, jsons must be used\n",
    "# More here: https://plotly.com/python/mapbox-county-choropleth/\n",
    "# https://plotly.github.io/plotly.py-docs/generated/plotly.express.choropleth_mapbox.html\n",
    "# https://stackoverflow.com/questions/67362742/geojson-issues-with-plotly-choropleth-mapbox\n",
    "# https://community.plotly.com/t/choroplethmapbox-does-not-show/41229/6\n",
    "ga_zipcodes_fig = px.choropleth_mapbox(ga_zipcode_count, geojson=map_ga_zipcodes, locations='zipcode', color='num_houses',\n",
    "                                       color_continuous_scale=\"Viridis\", #range_color=(0, 12), \n",
    "                                       mapbox_style=\"carto-positron\", zoom=5.5, \n",
    "                                       # Geographic center of Georgia:\n",
    "                                       # https://georgiahistory.com/ghmi_marker_updated/geographic-center-of-georgia/\n",
    "                                       center = {\"lat\": 32.6461, \"lon\": -83.4317},\n",
    "                                       opacity=0.5, labels={'num_houses':'Number of Houses'},\n",
    "                                      featureidkey='properties.ZCTA')"
   ]
  },
  {
   "cell_type": "markdown",
   "metadata": {},
   "source": [
    "Finally, plot the map."
   ]
  },
  {
   "cell_type": "code",
   "execution_count": null,
   "metadata": {},
   "outputs": [],
   "source": [
    "iplot(ga_zipcodes_fig)\n",
    "\n",
    "# If iplot doesn't show a figure, uncomment and run the code below\n",
    "# plot(ga_counties_fig)"
   ]
  },
  {
   "cell_type": "markdown",
   "metadata": {},
   "source": [
    "Again, the same problem persists, either due to possibly inconsistencies in the GeoJSON itself or no houses sold in particular zipcodes themselves."
   ]
  },
  {
   "cell_type": "markdown",
   "metadata": {},
   "source": [
    "<a href=#toc>Back to the top</a>"
   ]
  }
 ],
 "metadata": {
  "kernelspec": {
   "display_name": "Python 3 (ipykernel)",
   "language": "python",
   "name": "python3"
  },
  "language_info": {
   "codemirror_mode": {
    "name": "ipython",
    "version": 3
   },
   "file_extension": ".py",
   "mimetype": "text/x-python",
   "name": "python",
   "nbconvert_exporter": "python",
   "pygments_lexer": "ipython3",
   "version": "3.9.7"
  }
 },
 "nbformat": 4,
 "nbformat_minor": 2
}
